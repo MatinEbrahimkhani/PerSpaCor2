{
 "cells": [
  {
   "cell_type": "code",
   "id": "initial_id",
   "metadata": {
    "collapsed": true,
    "ExecuteTime": {
     "end_time": "2024-06-21T23:10:46.375566Z",
     "start_time": "2024-06-21T23:10:45.090015Z"
    }
   },
   "source": [
    "from transformers import AutoTokenizer\n",
    "from datasets import DatasetDict,Dataset,concatenate_datasets\n",
    "import random"
   ],
   "outputs": [],
   "execution_count": 1
  },
  {
   "metadata": {
    "ExecuteTime": {
     "end_time": "2024-06-21T23:10:47.366896Z",
     "start_time": "2024-06-21T23:10:46.376541Z"
    }
   },
   "cell_type": "code",
   "source": [
    "inputid_dataset= DatasetDict.load_from_disk(\"./../_data/datasets/inputid/bert-mult-uncased/\")\n",
    "\n",
    "pretrained_model = \"bert-base-multilingual-uncased\"\n",
    "tokenizer = AutoTokenizer.from_pretrained(pretrained_model)\n",
    "inputid_dataset['test']"
   ],
   "id": "416f855bc627b415",
   "outputs": [
    {
     "name": "stderr",
     "output_type": "stream",
     "text": [
      "/home/matin/Documents/python_environments/perspacor/lib/python3.12/site-packages/huggingface_hub/file_download.py:1132: FutureWarning: `resume_download` is deprecated and will be removed in version 1.0.0. Downloads always resume when possible. If you want to force a new download, use `force_download=True`.\n",
      "  warnings.warn(\n"
     ]
    },
    {
     "data": {
      "text/plain": [
       "Dataset({\n",
       "    features: ['sentences', 'tokens', 'labels', 'input_ids'],\n",
       "    num_rows: 42419\n",
       "})"
      ]
     },
     "execution_count": 2,
     "metadata": {},
     "output_type": "execute_result"
    }
   ],
   "execution_count": 2
  },
  {
   "metadata": {
    "ExecuteTime": {
     "end_time": "2024-06-21T23:10:47.369490Z",
     "start_time": "2024-06-21T23:10:47.367715Z"
    }
   },
   "cell_type": "code",
   "source": "",
   "id": "32caa3a3e1b09be9",
   "outputs": [],
   "execution_count": 2
  },
  {
   "metadata": {
    "ExecuteTime": {
     "end_time": "2024-06-21T23:10:47.374632Z",
     "start_time": "2024-06-21T23:10:47.370574Z"
    }
   },
   "cell_type": "code",
   "source": [
    "\n",
    "# Define the error injection function\n",
    "def inject_label_errors(dataset, error_rates):\n",
    "    \"\"\"\n",
    "    Inject errors into the labels of the dataset.\n",
    "\n",
    "    :param dataset: The input dataset.\n",
    "    :param error_rates: A dictionary with error rates for each class.\n",
    "                        Example: {0: 0.1, 1: 0.05, 2: 0.2}\n",
    "    :return: A new dataset with injected label errors.\n",
    "    \"\"\"\n",
    "    def apply_error(label):\n",
    "        if random.random() < error_rates[label]:\n",
    "            new_label = random.choice([l for l in range(len(error_rates)) if l != label])\n",
    "            return new_label\n",
    "        return label\n",
    "\n",
    "    def inject_errors_in_labels(examples):\n",
    "        examples[\"labels\"] = [apply_error(label) for label in examples[\"labels\"]]\n",
    "        return examples\n",
    "\n",
    "    # Apply error injection\n",
    "    new_dataset = dataset.map(inject_errors_in_labels, batched=False)\n",
    "    return new_dataset"
   ],
   "id": "a97d1643b95cf9bf",
   "outputs": [],
   "execution_count": 3
  },
  {
   "metadata": {
    "ExecuteTime": {
     "end_time": "2024-06-21T23:10:47.386405Z",
     "start_time": "2024-06-21T23:10:47.375846Z"
    }
   },
   "cell_type": "code",
   "source": [
    "\n",
    "error_rates = {0: 0.3, 1: 0.1, 2: 0.2}\n",
    "\n",
    "# Inject errors into the dataset\n",
    "injected_test= inject_label_errors(inputid_dataset['test'], error_rates)"
   ],
   "id": "8a5b98b6e9ed91cd",
   "outputs": [],
   "execution_count": 4
  },
  {
   "metadata": {
    "ExecuteTime": {
     "end_time": "2024-06-21T23:10:47.397907Z",
     "start_time": "2024-06-21T23:10:47.387179Z"
    }
   },
   "cell_type": "code",
   "source": [
    "# Create an empty dictionary with specified columns\n",
    "empty_data = { \n",
    "    \"input_ids\": [[1]],  # Replace with your actual input IDs\n",
    "    \"labels\": [[0]],    # Replace with your actual labels\n",
    "    \"attention_mask\": [[1]],  # Replace with your actual attention mask\n",
    "}\n",
    "batched_dataset = DatasetDict({\n",
    "    \"test\": Dataset.from_dict(empty_data)\n",
    "})"
   ],
   "id": "f6e9a8ad59786b65",
   "outputs": [],
   "execution_count": 5
  },
  {
   "metadata": {
    "ExecuteTime": {
     "end_time": "2024-06-21T23:10:47.405731Z",
     "start_time": "2024-06-21T23:10:47.399638Z"
    }
   },
   "cell_type": "code",
   "source": [
    "from _utils.dataset_util import flatten_2d_list\n",
    "def chunk_pad_map(sents_batch,dataset_name):\n",
    "    \n",
    "    f_tokens = flatten_2d_list(sents_batch[\"tokens\"])\n",
    "    f_labels = flatten_2d_list(sents_batch[\"labels\"])\n",
    "    f_input_ids = flatten_2d_list(sents_batch[\"input_ids\"])\n",
    "    # print(f_tokens)\n",
    "    # print(len(f_input_ids))\n",
    "    # print(len(f_labels))\n",
    "    # # print(sents_batch[\"tokens\"])\n",
    "    # # print(len(sents_batch[\"tokens\"]))\n",
    "    # raise EOFError\n",
    "    \n",
    "    input_ids_list = []\n",
    "    attention_mask_list = []\n",
    "    labels_list = []\n",
    "    chunk_size =512\n",
    "    tok_pad=0 \n",
    "    label_pad=-100\n",
    "    attention_pad=0\n",
    "    # Create chunks\n",
    "    # print(len(f_input_ids)// chunk_size)\n",
    "    for i in range(0, len(f_input_ids), chunk_size):  # We subtract 2 to account for special tokens\n",
    "        chunked_tokens = f_input_ids[i:i + chunk_size]\n",
    "        chunk_label_ids = f_labels[i:i + chunk_size]\n",
    "        chunk_attention_mask = [1] * len(chunked_tokens)\n",
    "        \n",
    "        # print(len(chunked_tokens))\n",
    "        \n",
    "        while True and len(chunked_tokens) < chunk_size:\n",
    "            chunked_tokens.append(tok_pad)\n",
    "            chunk_attention_mask.append(attention_pad)\n",
    "            chunk_label_ids.append(label_pad)\n",
    "        input_ids_list.append(chunked_tokens)\n",
    "        attention_mask_list.append(chunk_attention_mask)\n",
    "        labels_list.append(chunk_label_ids)\n",
    "\n",
    "    \n",
    "    temp_ds = Dataset.from_dict({\"input_ids\": input_ids_list, \"labels\": labels_list, \"attention_mask\": attention_mask_list})\n",
    "    batched_dataset[dataset_name] = batched_dataset[dataset_name].cast(temp_ds.features)\n",
    "    batched_dataset[dataset_name]=concatenate_datasets([batched_dataset[dataset_name], temp_ds])\n",
    "    return sents_batch\n"
   ],
   "id": "d73f045c959ac137",
   "outputs": [],
   "execution_count": 6
  },
  {
   "metadata": {
    "ExecuteTime": {
     "end_time": "2024-06-21T23:11:00.805446Z",
     "start_time": "2024-06-21T23:10:47.406611Z"
    }
   },
   "cell_type": "code",
   "source": [
    "\n",
    "inputid_dataset['test'] = inputid_dataset['test'].remove_columns('sentences')\n",
    "inputid_dataset['test'].map(chunk_pad_map,batched=True, load_from_cache_file=False,fn_kwargs={\"dataset_name\": \"test\"})\n",
    "batched_test = batched_dataset['test'].select(range(1,len(batched_dataset['test'])))\n",
    "batched_test"
   ],
   "id": "74247212ae9bf166",
   "outputs": [
    {
     "data": {
      "text/plain": [
       "Map:   0%|          | 0/42419 [00:00<?, ? examples/s]"
      ],
      "application/vnd.jupyter.widget-view+json": {
       "version_major": 2,
       "version_minor": 0,
       "model_id": "b44a71ce1c6842f099652f37084b8c45"
      }
     },
     "metadata": {},
     "output_type": "display_data"
    },
    {
     "data": {
      "text/plain": [
       "Casting the dataset:   0%|          | 0/1 [00:00<?, ? examples/s]"
      ],
      "application/vnd.jupyter.widget-view+json": {
       "version_major": 2,
       "version_minor": 0,
       "model_id": "2f217897bcb24607b147c42a02f4350c"
      }
     },
     "metadata": {},
     "output_type": "display_data"
    },
    {
     "data": {
      "text/plain": [
       "Casting the dataset:   0%|          | 0/224 [00:00<?, ? examples/s]"
      ],
      "application/vnd.jupyter.widget-view+json": {
       "version_major": 2,
       "version_minor": 0,
       "model_id": "29ecabf706f740469e72c91ff668b2f5"
      }
     },
     "metadata": {},
     "output_type": "display_data"
    },
    {
     "data": {
      "text/plain": [
       "Casting the dataset:   0%|          | 0/452 [00:00<?, ? examples/s]"
      ],
      "application/vnd.jupyter.widget-view+json": {
       "version_major": 2,
       "version_minor": 0,
       "model_id": "42fcd867faef4eea832bcf12bad96217"
      }
     },
     "metadata": {},
     "output_type": "display_data"
    },
    {
     "data": {
      "text/plain": [
       "Casting the dataset:   0%|          | 0/675 [00:00<?, ? examples/s]"
      ],
      "application/vnd.jupyter.widget-view+json": {
       "version_major": 2,
       "version_minor": 0,
       "model_id": "1c1e37d6edb74ae690d593597b47ac5e"
      }
     },
     "metadata": {},
     "output_type": "display_data"
    },
    {
     "data": {
      "text/plain": [
       "Casting the dataset:   0%|          | 0/899 [00:00<?, ? examples/s]"
      ],
      "application/vnd.jupyter.widget-view+json": {
       "version_major": 2,
       "version_minor": 0,
       "model_id": "4cff137192db448b8897c1b77be1799c"
      }
     },
     "metadata": {},
     "output_type": "display_data"
    },
    {
     "data": {
      "text/plain": [
       "Casting the dataset:   0%|          | 0/1123 [00:00<?, ? examples/s]"
      ],
      "application/vnd.jupyter.widget-view+json": {
       "version_major": 2,
       "version_minor": 0,
       "model_id": "8f87465a68d64acdb529613b71afce55"
      }
     },
     "metadata": {},
     "output_type": "display_data"
    },
    {
     "data": {
      "text/plain": [
       "Casting the dataset:   0%|          | 0/1346 [00:00<?, ? examples/s]"
      ],
      "application/vnd.jupyter.widget-view+json": {
       "version_major": 2,
       "version_minor": 0,
       "model_id": "febce4b9308042e182cbae8d5ec6eb32"
      }
     },
     "metadata": {},
     "output_type": "display_data"
    },
    {
     "data": {
      "text/plain": [
       "Casting the dataset:   0%|          | 0/1578 [00:00<?, ? examples/s]"
      ],
      "application/vnd.jupyter.widget-view+json": {
       "version_major": 2,
       "version_minor": 0,
       "model_id": "dfba38bef3714b74b2540c3a6d512136"
      }
     },
     "metadata": {},
     "output_type": "display_data"
    },
    {
     "data": {
      "text/plain": [
       "Casting the dataset:   0%|          | 0/1810 [00:00<?, ? examples/s]"
      ],
      "application/vnd.jupyter.widget-view+json": {
       "version_major": 2,
       "version_minor": 0,
       "model_id": "459a2add2eea4f2c846a0d1b2317fb8e"
      }
     },
     "metadata": {},
     "output_type": "display_data"
    },
    {
     "data": {
      "text/plain": [
       "Casting the dataset:   0%|          | 0/2038 [00:00<?, ? examples/s]"
      ],
      "application/vnd.jupyter.widget-view+json": {
       "version_major": 2,
       "version_minor": 0,
       "model_id": "4e13e5a846154946ae9539177ed61758"
      }
     },
     "metadata": {},
     "output_type": "display_data"
    },
    {
     "data": {
      "text/plain": [
       "Casting the dataset:   0%|          | 0/2259 [00:00<?, ? examples/s]"
      ],
      "application/vnd.jupyter.widget-view+json": {
       "version_major": 2,
       "version_minor": 0,
       "model_id": "5ba51109d06a431cb30f2a15260da48b"
      }
     },
     "metadata": {},
     "output_type": "display_data"
    },
    {
     "data": {
      "text/plain": [
       "Casting the dataset:   0%|          | 0/2479 [00:00<?, ? examples/s]"
      ],
      "application/vnd.jupyter.widget-view+json": {
       "version_major": 2,
       "version_minor": 0,
       "model_id": "91f7fa27ea3d41278a86c96e331feae1"
      }
     },
     "metadata": {},
     "output_type": "display_data"
    },
    {
     "data": {
      "text/plain": [
       "Casting the dataset:   0%|          | 0/2703 [00:00<?, ? examples/s]"
      ],
      "application/vnd.jupyter.widget-view+json": {
       "version_major": 2,
       "version_minor": 0,
       "model_id": "c7de4026a79d4942a09f5265da5bf7ac"
      }
     },
     "metadata": {},
     "output_type": "display_data"
    },
    {
     "data": {
      "text/plain": [
       "Casting the dataset:   0%|          | 0/2920 [00:00<?, ? examples/s]"
      ],
      "application/vnd.jupyter.widget-view+json": {
       "version_major": 2,
       "version_minor": 0,
       "model_id": "e4e85583eb124f1a85b1c40cb69a832f"
      }
     },
     "metadata": {},
     "output_type": "display_data"
    },
    {
     "data": {
      "text/plain": [
       "Casting the dataset:   0%|          | 0/3143 [00:00<?, ? examples/s]"
      ],
      "application/vnd.jupyter.widget-view+json": {
       "version_major": 2,
       "version_minor": 0,
       "model_id": "1ea10729bb74486d9f524fce25f3dd01"
      }
     },
     "metadata": {},
     "output_type": "display_data"
    },
    {
     "data": {
      "text/plain": [
       "Casting the dataset:   0%|          | 0/3375 [00:00<?, ? examples/s]"
      ],
      "application/vnd.jupyter.widget-view+json": {
       "version_major": 2,
       "version_minor": 0,
       "model_id": "50b2e4fdc98a40f7bd88ea69d9b0f32f"
      }
     },
     "metadata": {},
     "output_type": "display_data"
    },
    {
     "data": {
      "text/plain": [
       "Casting the dataset:   0%|          | 0/3596 [00:00<?, ? examples/s]"
      ],
      "application/vnd.jupyter.widget-view+json": {
       "version_major": 2,
       "version_minor": 0,
       "model_id": "81d3f04d981348509298dbe224bc95c7"
      }
     },
     "metadata": {},
     "output_type": "display_data"
    },
    {
     "data": {
      "text/plain": [
       "Casting the dataset:   0%|          | 0/3815 [00:00<?, ? examples/s]"
      ],
      "application/vnd.jupyter.widget-view+json": {
       "version_major": 2,
       "version_minor": 0,
       "model_id": "a1f7a2fab5e04951b754941534f3be05"
      }
     },
     "metadata": {},
     "output_type": "display_data"
    },
    {
     "data": {
      "text/plain": [
       "Casting the dataset:   0%|          | 0/4034 [00:00<?, ? examples/s]"
      ],
      "application/vnd.jupyter.widget-view+json": {
       "version_major": 2,
       "version_minor": 0,
       "model_id": "6cc1c649a30d4ac69480787cd5d2edfd"
      }
     },
     "metadata": {},
     "output_type": "display_data"
    },
    {
     "data": {
      "text/plain": [
       "Casting the dataset:   0%|          | 0/4261 [00:00<?, ? examples/s]"
      ],
      "application/vnd.jupyter.widget-view+json": {
       "version_major": 2,
       "version_minor": 0,
       "model_id": "165006e161e54dd9b99e20c734d6f0f3"
      }
     },
     "metadata": {},
     "output_type": "display_data"
    },
    {
     "data": {
      "text/plain": [
       "Casting the dataset:   0%|          | 0/4487 [00:00<?, ? examples/s]"
      ],
      "application/vnd.jupyter.widget-view+json": {
       "version_major": 2,
       "version_minor": 0,
       "model_id": "0dcf6ddf0ad44631a2cf871a7d8047bf"
      }
     },
     "metadata": {},
     "output_type": "display_data"
    },
    {
     "data": {
      "text/plain": [
       "Casting the dataset:   0%|          | 0/4710 [00:00<?, ? examples/s]"
      ],
      "application/vnd.jupyter.widget-view+json": {
       "version_major": 2,
       "version_minor": 0,
       "model_id": "080dc941f4de4cd7917655bc7b541af6"
      }
     },
     "metadata": {},
     "output_type": "display_data"
    },
    {
     "data": {
      "text/plain": [
       "Casting the dataset:   0%|          | 0/4936 [00:00<?, ? examples/s]"
      ],
      "application/vnd.jupyter.widget-view+json": {
       "version_major": 2,
       "version_minor": 0,
       "model_id": "956cebe1fdeb4436bfce5e05635e1446"
      }
     },
     "metadata": {},
     "output_type": "display_data"
    },
    {
     "data": {
      "text/plain": [
       "Casting the dataset:   0%|          | 0/5155 [00:00<?, ? examples/s]"
      ],
      "application/vnd.jupyter.widget-view+json": {
       "version_major": 2,
       "version_minor": 0,
       "model_id": "1edc0cc70c634cdd9a2be062118c69df"
      }
     },
     "metadata": {},
     "output_type": "display_data"
    },
    {
     "data": {
      "text/plain": [
       "Casting the dataset:   0%|          | 0/5375 [00:00<?, ? examples/s]"
      ],
      "application/vnd.jupyter.widget-view+json": {
       "version_major": 2,
       "version_minor": 0,
       "model_id": "47936000376e4f1fbbae847028167b12"
      }
     },
     "metadata": {},
     "output_type": "display_data"
    },
    {
     "data": {
      "text/plain": [
       "Casting the dataset:   0%|          | 0/5597 [00:00<?, ? examples/s]"
      ],
      "application/vnd.jupyter.widget-view+json": {
       "version_major": 2,
       "version_minor": 0,
       "model_id": "f31f1f431098488a9d277456690e4c7d"
      }
     },
     "metadata": {},
     "output_type": "display_data"
    },
    {
     "data": {
      "text/plain": [
       "Casting the dataset:   0%|          | 0/5822 [00:00<?, ? examples/s]"
      ],
      "application/vnd.jupyter.widget-view+json": {
       "version_major": 2,
       "version_minor": 0,
       "model_id": "8978742215f541d691059b1d03e5897c"
      }
     },
     "metadata": {},
     "output_type": "display_data"
    },
    {
     "data": {
      "text/plain": [
       "Casting the dataset:   0%|          | 0/6054 [00:00<?, ? examples/s]"
      ],
      "application/vnd.jupyter.widget-view+json": {
       "version_major": 2,
       "version_minor": 0,
       "model_id": "7c34e7103b34437ea3289fb6228cfab4"
      }
     },
     "metadata": {},
     "output_type": "display_data"
    },
    {
     "data": {
      "text/plain": [
       "Casting the dataset:   0%|          | 0/6281 [00:00<?, ? examples/s]"
      ],
      "application/vnd.jupyter.widget-view+json": {
       "version_major": 2,
       "version_minor": 0,
       "model_id": "9be43a9ee85e440b93e1e6a954d1e9e0"
      }
     },
     "metadata": {},
     "output_type": "display_data"
    },
    {
     "data": {
      "text/plain": [
       "Casting the dataset:   0%|          | 0/6502 [00:00<?, ? examples/s]"
      ],
      "application/vnd.jupyter.widget-view+json": {
       "version_major": 2,
       "version_minor": 0,
       "model_id": "37b45aa2cc29403e8b9fbbb23fae4e8b"
      }
     },
     "metadata": {},
     "output_type": "display_data"
    },
    {
     "data": {
      "text/plain": [
       "Casting the dataset:   0%|          | 0/6727 [00:00<?, ? examples/s]"
      ],
      "application/vnd.jupyter.widget-view+json": {
       "version_major": 2,
       "version_minor": 0,
       "model_id": "a4144af56cd948009ea80a315acbef4e"
      }
     },
     "metadata": {},
     "output_type": "display_data"
    },
    {
     "data": {
      "text/plain": [
       "Casting the dataset:   0%|          | 0/6965 [00:00<?, ? examples/s]"
      ],
      "application/vnd.jupyter.widget-view+json": {
       "version_major": 2,
       "version_minor": 0,
       "model_id": "b8f61b2096484c409ecffceacf2a7110"
      }
     },
     "metadata": {},
     "output_type": "display_data"
    },
    {
     "data": {
      "text/plain": [
       "Casting the dataset:   0%|          | 0/7197 [00:00<?, ? examples/s]"
      ],
      "application/vnd.jupyter.widget-view+json": {
       "version_major": 2,
       "version_minor": 0,
       "model_id": "27ae5034cf87440f888a8c01ee8ab036"
      }
     },
     "metadata": {},
     "output_type": "display_data"
    },
    {
     "data": {
      "text/plain": [
       "Casting the dataset:   0%|          | 0/7419 [00:00<?, ? examples/s]"
      ],
      "application/vnd.jupyter.widget-view+json": {
       "version_major": 2,
       "version_minor": 0,
       "model_id": "2add2d7722504b0fa3548df5a032e980"
      }
     },
     "metadata": {},
     "output_type": "display_data"
    },
    {
     "data": {
      "text/plain": [
       "Casting the dataset:   0%|          | 0/7639 [00:00<?, ? examples/s]"
      ],
      "application/vnd.jupyter.widget-view+json": {
       "version_major": 2,
       "version_minor": 0,
       "model_id": "c8274511447145b7a83a5d10dc5c5ea5"
      }
     },
     "metadata": {},
     "output_type": "display_data"
    },
    {
     "data": {
      "text/plain": [
       "Casting the dataset:   0%|          | 0/7868 [00:00<?, ? examples/s]"
      ],
      "application/vnd.jupyter.widget-view+json": {
       "version_major": 2,
       "version_minor": 0,
       "model_id": "ed813ce5546e416da5814f767882eecb"
      }
     },
     "metadata": {},
     "output_type": "display_data"
    },
    {
     "data": {
      "text/plain": [
       "Casting the dataset:   0%|          | 0/8102 [00:00<?, ? examples/s]"
      ],
      "application/vnd.jupyter.widget-view+json": {
       "version_major": 2,
       "version_minor": 0,
       "model_id": "37b126dbfb46454d8371f13648b85c89"
      }
     },
     "metadata": {},
     "output_type": "display_data"
    },
    {
     "data": {
      "text/plain": [
       "Casting the dataset:   0%|          | 0/8327 [00:00<?, ? examples/s]"
      ],
      "application/vnd.jupyter.widget-view+json": {
       "version_major": 2,
       "version_minor": 0,
       "model_id": "c0a9ba9cb4ac467b85218afa619349da"
      }
     },
     "metadata": {},
     "output_type": "display_data"
    },
    {
     "data": {
      "text/plain": [
       "Casting the dataset:   0%|          | 0/8560 [00:00<?, ? examples/s]"
      ],
      "application/vnd.jupyter.widget-view+json": {
       "version_major": 2,
       "version_minor": 0,
       "model_id": "8803b291202241f08086b4c766189905"
      }
     },
     "metadata": {},
     "output_type": "display_data"
    },
    {
     "data": {
      "text/plain": [
       "Casting the dataset:   0%|          | 0/8780 [00:00<?, ? examples/s]"
      ],
      "application/vnd.jupyter.widget-view+json": {
       "version_major": 2,
       "version_minor": 0,
       "model_id": "e2ac6fc183a845498bd8a51a5321c8c1"
      }
     },
     "metadata": {},
     "output_type": "display_data"
    },
    {
     "data": {
      "text/plain": [
       "Casting the dataset:   0%|          | 0/9007 [00:00<?, ? examples/s]"
      ],
      "application/vnd.jupyter.widget-view+json": {
       "version_major": 2,
       "version_minor": 0,
       "model_id": "1040249f3186454c9b571d4195eda82c"
      }
     },
     "metadata": {},
     "output_type": "display_data"
    },
    {
     "data": {
      "text/plain": [
       "Casting the dataset:   0%|          | 0/9228 [00:00<?, ? examples/s]"
      ],
      "application/vnd.jupyter.widget-view+json": {
       "version_major": 2,
       "version_minor": 0,
       "model_id": "6a4592dc12b74af7a921ecbcc596d06d"
      }
     },
     "metadata": {},
     "output_type": "display_data"
    },
    {
     "data": {
      "text/plain": [
       "Casting the dataset:   0%|          | 0/9453 [00:00<?, ? examples/s]"
      ],
      "application/vnd.jupyter.widget-view+json": {
       "version_major": 2,
       "version_minor": 0,
       "model_id": "f80074eb2a9d49cb8451ac2e212c180a"
      }
     },
     "metadata": {},
     "output_type": "display_data"
    },
    {
     "data": {
      "text/plain": [
       "Dataset({\n",
       "    features: ['input_ids', 'labels', 'attention_mask'],\n",
       "    num_rows: 9545\n",
       "})"
      ]
     },
     "execution_count": 7,
     "metadata": {},
     "output_type": "execute_result"
    }
   ],
   "execution_count": 7
  },
  {
   "metadata": {
    "ExecuteTime": {
     "end_time": "2024-06-21T23:11:00.810094Z",
     "start_time": "2024-06-21T23:11:00.806925Z"
    }
   },
   "cell_type": "code",
   "source": "batched_test\n",
   "id": "80ee93b3285255ca",
   "outputs": [
    {
     "data": {
      "text/plain": [
       "Dataset({\n",
       "    features: ['input_ids', 'labels', 'attention_mask'],\n",
       "    num_rows: 9545\n",
       "})"
      ]
     },
     "execution_count": 8,
     "metadata": {},
     "output_type": "execute_result"
    }
   ],
   "execution_count": 8
  },
  {
   "metadata": {
    "ExecuteTime": {
     "end_time": "2024-06-21T23:11:00.873919Z",
     "start_time": "2024-06-21T23:11:00.811208Z"
    }
   },
   "cell_type": "code",
   "source": "batched_test.save_to_disk(\"./../_data/datasets/batched/bert-base-multilingual-uncased/injected/\")",
   "id": "ccc7e5fd138cd167",
   "outputs": [
    {
     "data": {
      "text/plain": [
       "Saving the dataset (0/1 shards):   0%|          | 0/9545 [00:00<?, ? examples/s]"
      ],
      "application/vnd.jupyter.widget-view+json": {
       "version_major": 2,
       "version_minor": 0,
       "model_id": "edfc2509aa344c01a9ac40f255ce6577"
      }
     },
     "metadata": {},
     "output_type": "display_data"
    }
   ],
   "execution_count": 9
  },
  {
   "metadata": {
    "ExecuteTime": {
     "end_time": "2024-06-21T23:11:00.877836Z",
     "start_time": "2024-06-21T23:11:00.875265Z"
    }
   },
   "cell_type": "code",
   "source": "",
   "id": "b7fcaf7938c6090c",
   "outputs": [],
   "execution_count": 9
  }
 ],
 "metadata": {
  "kernelspec": {
   "display_name": "Python 3",
   "language": "python",
   "name": "python3"
  },
  "language_info": {
   "codemirror_mode": {
    "name": "ipython",
    "version": 2
   },
   "file_extension": ".py",
   "mimetype": "text/x-python",
   "name": "python",
   "nbconvert_exporter": "python",
   "pygments_lexer": "ipython2",
   "version": "2.7.6"
  }
 },
 "nbformat": 4,
 "nbformat_minor": 5
}
