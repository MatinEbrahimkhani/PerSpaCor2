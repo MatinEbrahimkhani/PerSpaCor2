{
 "cells": [
  {
   "cell_type": "code",
   "id": "initial_id",
   "metadata": {
    "collapsed": true,
    "ExecuteTime": {
     "end_time": "2024-06-18T00:30:33.360078Z",
     "start_time": "2024-06-18T00:30:31.408965Z"
    }
   },
   "source": [
    "from corpus_processor import Loader, Type\n",
    "from labeler import Labeler\n",
    "\n",
    "from datasets import DatasetDict,Dataset\n"
   ],
   "outputs": [],
   "execution_count": 1
  },
  {
   "metadata": {
    "ExecuteTime": {
     "end_time": "2024-06-18T00:30:33.363758Z",
     "start_time": "2024-06-18T00:30:33.361118Z"
    }
   },
   "cell_type": "code",
   "source": [
    "labeled_path = \"./../_data/datasets/labeled/\"\n",
    "corpus_type = Type.sents_raw\n",
    "corpus_loader = Loader(base_directory=\"./../\")\n",
    "corpus_labeler = Labeler()"
   ],
   "id": "a90609b095a1d8b1",
   "outputs": [],
   "execution_count": 2
  },
  {
   "metadata": {
    "ExecuteTime": {
     "end_time": "2024-06-18T00:30:47.864927Z",
     "start_time": "2024-06-18T00:30:33.364963Z"
    }
   },
   "cell_type": "code",
   "source": [
    "data = corpus_loader.load_corpus('all',corpus_type,shuffle_sentences=True)\n",
    "chars,labels = corpus_labeler.label_text(data,corpus_type)\n",
    "data_dict = {\n",
    "    \"sentences\": data,\n",
    "    \"tokens\" :chars,\n",
    "    \"labels\" :labels\n",
    "}"
   ],
   "id": "ddb88caacbae6e0a",
   "outputs": [
    {
     "name": "stdout",
     "output_type": "stream",
     "text": [
      "input data is in list format, processing it as in a list of sentences\n"
     ]
    }
   ],
   "execution_count": 3
  },
  {
   "metadata": {
    "ExecuteTime": {
     "end_time": "2024-06-18T00:30:55.443640Z",
     "start_time": "2024-06-18T00:30:55.440873Z"
    }
   },
   "cell_type": "code",
   "source": [
    "print(len(data_dict[\"labels\"]))\n",
    "print(len(data_dict[\"tokens\"]))\n",
    "print(len(data_dict[\"sentences\"]))\n"
   ],
   "id": "7d3ca54579577600",
   "outputs": [
    {
     "name": "stdout",
     "output_type": "stream",
     "text": [
      "424181\n",
      "424181\n",
      "424181\n"
     ]
    }
   ],
   "execution_count": 4
  },
  {
   "metadata": {
    "ExecuteTime": {
     "end_time": "2024-06-18T00:31:24.850238Z",
     "start_time": "2024-06-18T00:30:57.215750Z"
    }
   },
   "cell_type": "code",
   "source": "dataset = Dataset.from_dict(data_dict)",
   "id": "66832b2c006c7eb5",
   "outputs": [],
   "execution_count": 5
  },
  {
   "metadata": {
    "ExecuteTime": {
     "end_time": "2024-06-18T00:31:24.887640Z",
     "start_time": "2024-06-18T00:31:24.862558Z"
    }
   },
   "cell_type": "code",
   "source": "dataset",
   "id": "4a0e1f2badc2d98d",
   "outputs": [
    {
     "data": {
      "text/plain": [
       "Dataset({\n",
       "    features: ['sentences', 'tokens', 'labels'],\n",
       "    num_rows: 424181\n",
       "})"
      ]
     },
     "execution_count": 6,
     "metadata": {},
     "output_type": "execute_result"
    }
   ],
   "execution_count": 6
  },
  {
   "metadata": {
    "ExecuteTime": {
     "end_time": "2024-06-18T00:31:24.899321Z",
     "start_time": "2024-06-18T00:31:24.888919Z"
    }
   },
   "cell_type": "code",
   "source": "print(dataset[0])",
   "id": "ca7a7b1503bb93fa",
   "outputs": [
    {
     "name": "stdout",
     "output_type": "stream",
     "text": [
      "{'sentences': 'معادن فلزی معمولی نقشه پراکندگی مواد معدنی در ایران: در ایران معادن متعددی از مواد غیرفلزی چون سنگ\\u200cها و خاک\\u200cها کشف شده که برخی از آن\\u200cها مورد بهره\\u200cبرداری قرار می\\u200cگیرد. ', 'tokens': ['م', 'ع', 'ا', 'د', 'ن', 'ف', 'ل', 'ز', 'ی', 'م', 'ع', 'م', 'و', 'ل', 'ی', 'ن', 'ق', 'ش', 'ه', 'پ', 'ر', 'ا', 'ک', 'ن', 'د', 'گ', 'ی', 'م', 'و', 'ا', 'د', 'م', 'ع', 'د', 'ن', 'ی', 'د', 'ر', 'ا', 'ی', 'ر', 'ا', 'ن', ':', 'د', 'ر', 'ا', 'ی', 'ر', 'ا', 'ن', 'م', 'ع', 'ا', 'د', 'ن', 'م', 'ت', 'ع', 'د', 'د', 'ی', 'ا', 'ز', 'م', 'و', 'ا', 'د', 'غ', 'ی', 'ر', 'ف', 'ل', 'ز', 'ی', 'چ', 'و', 'ن', 'س', 'ن', 'گ', 'ه', 'ا', 'و', 'خ', 'ا', 'ک', 'ه', 'ا', 'ک', 'ش', 'ف', 'ش', 'د', 'ه', 'ک', 'ه', 'ب', 'ر', 'خ', 'ی', 'ا', 'ز', 'آ', 'ن', 'ه', 'ا', 'م', 'و', 'ر', 'د', 'ب', 'ه', 'ر', 'ه', 'ب', 'ر', 'د', 'ا', 'ر', 'ی', 'ق', 'ر', 'ا', 'ر', 'م', 'ی', 'گ', 'ی', 'ر', 'د', '.'], 'labels': [0, 0, 0, 0, 1, 0, 0, 0, 1, 0, 0, 0, 0, 0, 1, 0, 0, 0, 1, 0, 0, 0, 0, 0, 0, 0, 1, 0, 0, 0, 1, 0, 0, 0, 0, 1, 0, 1, 0, 0, 0, 0, 0, 1, 0, 1, 0, 0, 0, 0, 1, 0, 0, 0, 0, 1, 0, 0, 0, 0, 0, 1, 0, 1, 0, 0, 0, 1, 0, 0, 0, 0, 0, 0, 1, 0, 0, 1, 0, 0, 2, 0, 1, 1, 0, 0, 2, 0, 1, 0, 0, 1, 0, 0, 1, 0, 1, 0, 0, 0, 1, 0, 1, 0, 2, 0, 1, 0, 0, 0, 1, 0, 0, 0, 2, 0, 0, 0, 0, 0, 1, 0, 0, 0, 1, 0, 2, 0, 0, 0, 0, 1]}\n"
     ]
    }
   ],
   "execution_count": 7
  },
  {
   "metadata": {
    "ExecuteTime": {
     "end_time": "2024-06-18T00:31:26.476043Z",
     "start_time": "2024-06-18T00:31:24.901034Z"
    }
   },
   "cell_type": "code",
   "source": "dataset.save_to_disk(dataset_path=labeled_path+\"all\")",
   "id": "40a9a9832400252e",
   "outputs": [
    {
     "data": {
      "text/plain": [
       "Saving the dataset (0/2 shards):   0%|          | 0/424181 [00:00<?, ? examples/s]"
      ],
      "application/vnd.jupyter.widget-view+json": {
       "version_major": 2,
       "version_minor": 0,
       "model_id": "b8952c5a952440eb93ea60b2c9ececf8"
      }
     },
     "metadata": {},
     "output_type": "display_data"
    }
   ],
   "execution_count": 8
  },
  {
   "metadata": {
    "ExecuteTime": {
     "end_time": "2024-06-18T00:31:27.621113Z",
     "start_time": "2024-06-18T00:31:26.477708Z"
    }
   },
   "cell_type": "code",
   "source": [
    "train_size = int(0.8 * len(dataset))\n",
    "val_size = int(0.1 * len(dataset))\n",
    "train_dataset = dataset.select(range(train_size))\n",
    "val_dataset = dataset.select(range(train_size, train_size + val_size))\n",
    "test_dataset = dataset.select(range(train_size + val_size, len(dataset)))\n",
    "# Combine the datasets into a DatasetDict\n",
    "dataset_dict = DatasetDict({\n",
    "    \"train\": train_dataset,\n",
    "    \"validation\": val_dataset,\n",
    "    \"test\": test_dataset\n",
    "})\n",
    "dataset_dict._metadata = {\"author\": \"Matin Ebrahimkhani\"}\n",
    "dataset_dict.save_to_disk(labeled_path+\"all_sliced\")\n"
   ],
   "id": "7abc2cda11acd53f",
   "outputs": [
    {
     "data": {
      "text/plain": [
       "Saving the dataset (0/2 shards):   0%|          | 0/339344 [00:00<?, ? examples/s]"
      ],
      "application/vnd.jupyter.widget-view+json": {
       "version_major": 2,
       "version_minor": 0,
       "model_id": "f894ed74489e417395c21a7e3409e2c1"
      }
     },
     "metadata": {},
     "output_type": "display_data"
    },
    {
     "data": {
      "text/plain": [
       "Saving the dataset (0/1 shards):   0%|          | 0/42418 [00:00<?, ? examples/s]"
      ],
      "application/vnd.jupyter.widget-view+json": {
       "version_major": 2,
       "version_minor": 0,
       "model_id": "4a1e960c3e994375b924f78995e893ad"
      }
     },
     "metadata": {},
     "output_type": "display_data"
    },
    {
     "data": {
      "text/plain": [
       "Saving the dataset (0/1 shards):   0%|          | 0/42419 [00:00<?, ? examples/s]"
      ],
      "application/vnd.jupyter.widget-view+json": {
       "version_major": 2,
       "version_minor": 0,
       "model_id": "366b358ab2434916a91c01b2e4b8ffcc"
      }
     },
     "metadata": {},
     "output_type": "display_data"
    }
   ],
   "execution_count": 9
  },
  {
   "metadata": {},
   "cell_type": "code",
   "outputs": [],
   "execution_count": null,
   "source": "",
   "id": "dd3e2e02518954a5"
  },
  {
   "metadata": {
    "ExecuteTime": {
     "end_time": "2024-06-16T18:51:51.419409Z",
     "start_time": "2024-06-16T18:51:51.416075Z"
    }
   },
   "cell_type": "code",
   "source": "",
   "id": "c37c126547afb33d",
   "outputs": [],
   "execution_count": 9
  }
 ],
 "metadata": {
  "kernelspec": {
   "display_name": "Python 3",
   "language": "python",
   "name": "python3"
  },
  "language_info": {
   "codemirror_mode": {
    "name": "ipython",
    "version": 2
   },
   "file_extension": ".py",
   "mimetype": "text/x-python",
   "name": "python",
   "nbconvert_exporter": "python",
   "pygments_lexer": "ipython2",
   "version": "2.7.6"
  }
 },
 "nbformat": 4,
 "nbformat_minor": 5
}
