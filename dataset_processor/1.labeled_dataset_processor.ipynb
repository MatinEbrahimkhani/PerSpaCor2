{
 "cells": [
  {
   "cell_type": "code",
   "id": "initial_id",
   "metadata": {
    "collapsed": true,
    "ExecuteTime": {
     "end_time": "2024-06-18T00:30:33.360078Z",
     "start_time": "2024-06-18T00:30:31.408965Z"
    }
   },
   "source": [
    "from corpus_processor import Loader, Type\n",
    "from labeler import Labeler\n",
    "\n",
    "from datasets import DatasetDict,Dataset\n"
   ],
   "execution_count": 1,
   "outputs": []
  },
  {
   "metadata": {
    "ExecuteTime": {
     "end_time": "2024-06-18T00:30:33.363758Z",
     "start_time": "2024-06-18T00:30:33.361118Z"
    }
   },
   "cell_type": "code",
   "source": [
    "labeled_path = \"./../_data/datasets/labeled/\"\n",
    "corpus_type = Type.sents_raw\n",
    "corpus_loader = Loader(base_directory=\"./../\")\n",
    "corpus_labeler = Labeler()"
   ],
   "id": "a90609b095a1d8b1",
   "execution_count": 2,
   "outputs": []
  },
  {
   "metadata": {
    "ExecuteTime": {
     "end_time": "2024-06-18T00:30:47.864927Z",
     "start_time": "2024-06-18T00:30:33.364963Z"
    }
   },
   "cell_type": "code",
   "source": [
    "data = corpus_loader.load_corpus('all',corpus_type,shuffle_sentences=True)\n",
    "chars,labels = corpus_labeler.label_text(data,corpus_type)\n",
    "data_dict = {\n",
    "    \"sentences\": data,\n",
    "    \"tokens\" :chars,\n",
    "    \"labels\" :labels\n",
    "}"
   ],
   "id": "ddb88caacbae6e0a",
   "execution_count": 3,
   "outputs": []
  },
  {
   "metadata": {
    "ExecuteTime": {
     "end_time": "2024-06-18T00:30:55.443640Z",
     "start_time": "2024-06-18T00:30:55.440873Z"
    }
   },
   "cell_type": "code",
   "source": [
    "print(len(data_dict[\"labels\"]))\n",
    "print(len(data_dict[\"tokens\"]))\n",
    "print(len(data_dict[\"sentences\"]))\n"
   ],
   "id": "7d3ca54579577600",
   "execution_count": 4,
   "outputs": []
  },
  {
   "metadata": {
    "ExecuteTime": {
     "end_time": "2024-06-18T00:31:24.850238Z",
     "start_time": "2024-06-18T00:30:57.215750Z"
    }
   },
   "cell_type": "code",
   "source": "dataset = Dataset.from_dict(data_dict)",
   "id": "66832b2c006c7eb5",
   "execution_count": 5,
   "outputs": []
  },
  {
   "metadata": {
    "ExecuteTime": {
     "end_time": "2024-06-18T00:31:24.887640Z",
     "start_time": "2024-06-18T00:31:24.862558Z"
    }
   },
   "cell_type": "code",
   "source": "dataset",
   "id": "4a0e1f2badc2d98d",
   "execution_count": 6,
   "outputs": []
  },
  {
   "metadata": {
    "ExecuteTime": {
     "end_time": "2024-06-18T00:31:24.899321Z",
     "start_time": "2024-06-18T00:31:24.888919Z"
    }
   },
   "cell_type": "code",
   "source": "print(dataset[0])",
   "id": "ca7a7b1503bb93fa",
   "execution_count": 7,
   "outputs": []
  },
  {
   "metadata": {
    "ExecuteTime": {
     "end_time": "2024-06-18T00:31:26.476043Z",
     "start_time": "2024-06-18T00:31:24.901034Z"
    }
   },
   "cell_type": "code",
   "source": "dataset.save_to_disk(dataset_path=labeled_path+\"all\")",
   "id": "40a9a9832400252e",
   "execution_count": 8,
   "outputs": []
  },
  {
   "metadata": {
    "ExecuteTime": {
     "end_time": "2024-06-18T00:31:27.621113Z",
     "start_time": "2024-06-18T00:31:26.477708Z"
    }
   },
   "cell_type": "code",
   "source": [
    "train_size = int(0.8 * len(dataset))\n",
    "val_size = int(0.1 * len(dataset))\n",
    "train_dataset = dataset.select(range(train_size))\n",
    "val_dataset = dataset.select(range(train_size, train_size + val_size))\n",
    "test_dataset = dataset.select(range(train_size + val_size, len(dataset)))\n",
    "# Combine the datasets into a DatasetDict\n",
    "dataset_dict = DatasetDict({\n",
    "    \"train\": train_dataset,\n",
    "    \"validation\": val_dataset,\n",
    "    \"test\": test_dataset\n",
    "})\n",
    "dataset_dict._metadata = {\"author\": \"Matin Ebrahimkhani\"}\n",
    "dataset_dict.save_to_disk(labeled_path+\"all_sliced\")\n"
   ],
   "id": "7abc2cda11acd53f",
   "execution_count": 9,
   "outputs": []
  },
  {
   "metadata": {},
   "cell_type": "code",
   "execution_count": null,
   "source": "",
   "id": "dd3e2e02518954a5",
   "outputs": []
  },
  {
   "metadata": {
    "ExecuteTime": {
     "end_time": "2024-06-16T18:51:51.419409Z",
     "start_time": "2024-06-16T18:51:51.416075Z"
    }
   },
   "cell_type": "code",
   "source": "",
   "id": "c37c126547afb33d",
   "execution_count": 9,
   "outputs": []
  }
 ],
 "metadata": {
  "kernelspec": {
   "display_name": "Python 3",
   "language": "python",
   "name": "python3"
  },
  "language_info": {
   "codemirror_mode": {
    "name": "ipython",
    "version": 2
   },
   "file_extension": ".py",
   "mimetype": "text/x-python",
   "name": "python",
   "nbconvert_exporter": "python",
   "pygments_lexer": "ipython2",
   "version": "2.7.6"
  }
 },
 "nbformat": 4,
 "nbformat_minor": 5
}
