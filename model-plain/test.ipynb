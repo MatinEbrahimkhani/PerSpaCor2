{
 "cells": [
  {
   "cell_type": "code",
   "id": "initial_id",
   "metadata": {
    "collapsed": true,
    "ExecuteTime": {
     "end_time": "2024-06-19T12:41:56.816527Z",
     "start_time": "2024-06-19T12:41:54.165453Z"
    }
   },
   "source": [
    "from transformers import (DataCollatorForTokenClassification,\n",
    "                          AutoTokenizer, AutoModelForTokenClassification)\n",
    "\n",
    "from transformers import Trainer, TrainingArguments\n",
    "from datasets import Dataset, DatasetDict"
   ],
   "outputs": [],
   "execution_count": 2
  },
  {
   "metadata": {
    "ExecuteTime": {
     "end_time": "2024-06-19T12:41:58.524853Z",
     "start_time": "2024-06-19T12:41:56.817565Z"
    }
   },
   "cell_type": "code",
   "source": [
    "pretrained_model = \"bert-base-multilingual-uncased\"\n",
    "model_dir = f\"./Model/\"\n",
    "\n",
    "tokenizer = AutoTokenizer.from_pretrained(pretrained_model)\n",
    "data_collator = DataCollatorForTokenClassification(tokenizer=tokenizer)\n",
    "model = AutoModelForTokenClassification.from_pretrained(pretrained_model, num_labels=3)\n",
    "dataset = DatasetDict().load_from_disk(\"./../_data/datasets/batched/bert-mult-uncased/\")\n"
   ],
   "id": "b68c3d05aeda5f24",
   "outputs": [
    {
     "name": "stderr",
     "output_type": "stream",
     "text": [
      "/home/matin/Documents/python_environments/perspacor/lib/python3.12/site-packages/huggingface_hub/file_download.py:1132: FutureWarning: `resume_download` is deprecated and will be removed in version 1.0.0. Downloads always resume when possible. If you want to force a new download, use `force_download=True`.\n",
      "  warnings.warn(\n",
      "Some weights of BertForTokenClassification were not initialized from the model checkpoint at bert-base-multilingual-uncased and are newly initialized: ['classifier.bias', 'classifier.weight']\n",
      "You should probably TRAIN this model on a down-stream task to be able to use it for predictions and inference.\n"
     ]
    }
   ],
   "execution_count": 3
  },
  {
   "metadata": {
    "ExecuteTime": {
     "end_time": "2024-06-19T12:42:06.078216Z",
     "start_time": "2024-06-19T12:42:06.073260Z"
    }
   },
   "cell_type": "code",
   "source": "dataset\n",
   "id": "40be5286a4b8f1bb",
   "outputs": [
    {
     "data": {
      "text/plain": [
       "DatasetDict({\n",
       "    train: Dataset({\n",
       "        features: ['tokens', 'labels', 'input_ids'],\n",
       "        num_rows: 339344\n",
       "    })\n",
       "    validation: Dataset({\n",
       "        features: ['tokens', 'labels', 'input_ids'],\n",
       "        num_rows: 42418\n",
       "    })\n",
       "    test: Dataset({\n",
       "        features: ['tokens', 'labels', 'input_ids'],\n",
       "        num_rows: 42419\n",
       "    })\n",
       "})"
      ]
     },
     "execution_count": 4,
     "metadata": {},
     "output_type": "execute_result"
    }
   ],
   "execution_count": 4
  },
  {
   "metadata": {
    "ExecuteTime": {
     "end_time": "2024-06-19T12:58:49.943545Z",
     "start_time": "2024-06-19T12:57:38.449124Z"
    }
   },
   "cell_type": "code",
   "source": [
    "# Get the length of the first entry\n",
    "first_entry_length = len(dataset['train']['tokens'][0])\n",
    "\n",
    "# Check if all entries have the same length\n",
    "all_same_length = all(len(entry) == first_entry_length for entry in dataset['train']['tokens'])\n",
    "\n",
    "if all_same_length:\n",
    "    print(\"All entries have the same length.\")\n",
    "else:\n",
    "    print(\"Not all entries have the same length.\")"
   ],
   "id": "25a16160a2b65d15",
   "outputs": [
    {
     "name": "stdout",
     "output_type": "stream",
     "text": [
      "Not all entries have the same length.\n"
     ]
    }
   ],
   "execution_count": 6
  },
  {
   "metadata": {},
   "cell_type": "code",
   "outputs": [],
   "execution_count": null,
   "source": "    ",
   "id": "cbad91899a8c7bd3"
  }
 ],
 "metadata": {
  "kernelspec": {
   "display_name": "Python 3",
   "language": "python",
   "name": "python3"
  },
  "language_info": {
   "codemirror_mode": {
    "name": "ipython",
    "version": 2
   },
   "file_extension": ".py",
   "mimetype": "text/x-python",
   "name": "python",
   "nbconvert_exporter": "python",
   "pygments_lexer": "ipython2",
   "version": "2.7.6"
  }
 },
 "nbformat": 4,
 "nbformat_minor": 5
}
