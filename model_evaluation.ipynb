{
 "cells": [
  {
   "cell_type": "code",
   "execution_count": 1,
   "id": "initial_id",
   "metadata": {
    "collapsed": true,
    "ExecuteTime": {
     "end_time": "2024-01-14T12:48:37.946825486Z",
     "start_time": "2024-01-14T12:48:34.779197893Z"
    }
   },
   "source": [
    "from transformers import (DataCollatorForTokenClassification,\n",
    "                          BertTokenizer, BertForTokenClassification)\n",
    "from transformers import Trainer, TrainingArguments\n",
    "from datasets import Dataset, DatasetDict\n",
    "pretrained_model = \"./Model_01.01/04/model/\"\n",
    "dataset = DatasetDict().load_from_disk('./built_datasets/peykareh.01')\n",
    "model = BertForTokenClassification.from_pretrained(pretrained_model, num_labels=3)\n",
    "print(model)\n",
    "print(dataset)"
   ],
   "outputs": []
  },
  {
   "cell_type": "code",
   "execution_count": 2,
   "source": [
    "\n",
    "trainer = Trainer(model=model,\n",
    "                  args=TrainingArguments(output_dir='./Model/results'),\n",
    "                  train_dataset=dataset['train'],\n",
    "                  eval_dataset=dataset[\"test\"])\n",
    "print(dataset[\"test\"])\n",
    "print(dataset[\"test\"][0])\n",
    "print(type(dataset[\"test\"]))\n",
    "print(type(dataset[\"test\"][0]))\n"
   ],
   "metadata": {
    "collapsed": false,
    "ExecuteTime": {
     "end_time": "2024-01-14T12:48:38.236952094Z",
     "start_time": "2024-01-14T12:48:37.993213824Z"
    }
   },
   "id": "431ddc835776b93c",
   "outputs": []
  },
  {
   "cell_type": "code",
   "execution_count": 4,
   "source": [
    "predictions = trainer.predict(dataset[\"test\"])\n",
    "print(predictions)\n",
    "predicted_labels = predictions.predictions.argmax(axis=-1)\n",
    "print(predicted_labels)"
   ],
   "metadata": {
    "collapsed": false,
    "ExecuteTime": {
     "end_time": "2024-01-14T12:55:02.725705532Z",
     "start_time": "2024-01-14T12:55:00.901560833Z"
    }
   },
   "id": "ca3a09f0118704e7",
   "outputs": []
  },
  {
   "cell_type": "code",
   "execution_count": 10,
   "source": [
    "print(dataset['test'])"
   ],
   "metadata": {
    "collapsed": false,
    "ExecuteTime": {
     "end_time": "2024-01-14T12:58:56.847943860Z",
     "start_time": "2024-01-14T12:58:56.788328207Z"
    }
   },
   "id": "bd5cf86f6f4b6de9",
   "outputs": []
  },
  {
   "cell_type": "code",
   "execution_count": 5,
   "source": [
    "from labeler import Evaluator\n",
    "from corpus_processor import Type\n",
    "evaluator = Evaluator(labels=(0,1,2))\n",
    "evaluator.evaluate(dataset['test']['labels'],predicted_labels,Type.sents_raw)"
   ],
   "metadata": {
    "collapsed": false,
    "ExecuteTime": {
     "end_time": "2024-01-13T13:17:36.992978798Z",
     "start_time": "2024-01-13T13:17:32.462535991Z"
    }
   },
   "id": "9a46d0163600fbac",
   "outputs": []
  },
  {
   "cell_type": "code",
   "execution_count": 6,
   "source": [
    "evaluator.show_metrics()"
   ],
   "metadata": {
    "collapsed": false,
    "ExecuteTime": {
     "end_time": "2024-01-13T13:17:37.001271144Z",
     "start_time": "2024-01-13T13:17:36.996854820Z"
    }
   },
   "id": "e138b7ce58c3ed8d",
   "outputs": []
  },
  {
   "cell_type": "markdown",
   "source": [],
   "metadata": {
    "collapsed": false
   },
   "id": "d9a8bf6638928e01"
  },
  {
   "cell_type": "code",
   "execution_count": 8,
   "source": [
    "from sklearn.metrics import accuracy_score, precision_score, recall_score, f1_score, classification_report\n",
    "\n",
    "predictions_flat = [label for sample in predicted_labels for label in sample]\n",
    "true_labels_flat = [label for sample in dataset['test']['labels'] for label in sample]\n",
    "\n",
    "# Calculate the accuracy, precision, recall, and F1 score\n",
    "accuracy = accuracy_score(true_labels_flat, predictions_flat)\n",
    "precision = precision_score(true_labels_flat, predictions_flat, average='macro')\n",
    "recall = recall_score(true_labels_flat, predictions_flat, average='macro')\n",
    "f1 = f1_score(true_labels_flat, predictions_flat, average='macro')\n",
    "\n",
    "# Print the results\n",
    "print(f\"Accuracy: {accuracy:.2f}\")\n",
    "print(f\"Precision: {precision:.2f}\")\n",
    "print(f\"Recall: {recall:.2f}\")\n",
    "print(f\"F1 score: {f1:.2f}\")\n"
   ],
   "metadata": {
    "collapsed": false,
    "ExecuteTime": {
     "end_time": "2024-01-13T13:22:43.499191225Z",
     "start_time": "2024-01-13T13:22:24.782649234Z"
    }
   },
   "id": "d584f8c247f53c6",
   "outputs": []
  },
  {
   "cell_type": "code",
   "execution_count": 10,
   "source": [
    "report = classification_report(true_labels_flat, predictions_flat,digits=5)\n",
    "\n",
    "# Print the report to the console\n",
    "print(report)"
   ],
   "metadata": {
    "collapsed": false,
    "ExecuteTime": {
     "end_time": "2024-01-13T13:25:46.242400244Z",
     "start_time": "2024-01-13T13:25:35.184592633Z"
    }
   },
   "id": "be0b8752797ad09c",
   "outputs": []
  },
  {
   "cell_type": "code",
   "execution_count": null,
   "source": [],
   "metadata": {
    "collapsed": false
   },
   "id": "5a545a593c27ca92",
   "outputs": []
  }
 ],
 "metadata": {
  "kernelspec": {
   "display_name": "Python 3",
   "language": "python",
   "name": "python3"
  },
  "language_info": {
   "codemirror_mode": {
    "name": "ipython",
    "version": 2
   },
   "file_extension": ".py",
   "mimetype": "text/x-python",
   "name": "python",
   "nbconvert_exporter": "python",
   "pygments_lexer": "ipython2",
   "version": "2.7.6"
  }
 },
 "nbformat": 4,
 "nbformat_minor": 5
}
