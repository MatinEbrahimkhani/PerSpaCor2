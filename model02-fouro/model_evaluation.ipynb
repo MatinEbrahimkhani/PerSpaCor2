{
 "cells": [
  {
   "cell_type": "code",
   "execution_count": 1,
   "id": "initial_id",
   "metadata": {
    "collapsed": true,
    "ExecuteTime": {
     "end_time": "2024-01-14T12:48:37.946825486Z",
     "start_time": "2024-01-14T12:48:34.779197893Z"
    }
   },
   "outputs": [
    {
     "name": "stdout",
     "output_type": "stream",
     "text": [
      "BertForTokenClassification(\n",
      "  (bert): BertModel(\n",
      "    (embeddings): BertEmbeddings(\n",
      "      (word_embeddings): Embedding(105879, 768, padding_idx=0)\n",
      "      (position_embeddings): Embedding(512, 768)\n",
      "      (token_type_embeddings): Embedding(2, 768)\n",
      "      (LayerNorm): LayerNorm((768,), eps=1e-12, elementwise_affine=True)\n",
      "      (dropout): Dropout(p=0.1, inplace=False)\n",
      "    )\n",
      "    (encoder): BertEncoder(\n",
      "      (layer): ModuleList(\n",
      "        (0-11): 12 x BertLayer(\n",
      "          (attention): BertAttention(\n",
      "            (self): BertSelfAttention(\n",
      "              (query): Linear(in_features=768, out_features=768, bias=True)\n",
      "              (key): Linear(in_features=768, out_features=768, bias=True)\n",
      "              (value): Linear(in_features=768, out_features=768, bias=True)\n",
      "              (dropout): Dropout(p=0.1, inplace=False)\n",
      "            )\n",
      "            (output): BertSelfOutput(\n",
      "              (dense): Linear(in_features=768, out_features=768, bias=True)\n",
      "              (LayerNorm): LayerNorm((768,), eps=1e-12, elementwise_affine=True)\n",
      "              (dropout): Dropout(p=0.1, inplace=False)\n",
      "            )\n",
      "          )\n",
      "          (intermediate): BertIntermediate(\n",
      "            (dense): Linear(in_features=768, out_features=3072, bias=True)\n",
      "            (intermediate_act_fn): GELUActivation()\n",
      "          )\n",
      "          (output): BertOutput(\n",
      "            (dense): Linear(in_features=3072, out_features=768, bias=True)\n",
      "            (LayerNorm): LayerNorm((768,), eps=1e-12, elementwise_affine=True)\n",
      "            (dropout): Dropout(p=0.1, inplace=False)\n",
      "          )\n",
      "        )\n",
      "      )\n",
      "    )\n",
      "  )\n",
      "  (dropout): Dropout(p=0.1, inplace=False)\n",
      "  (classifier): Linear(in_features=768, out_features=3, bias=True)\n",
      ")\n",
      "DatasetDict({\n",
      "    train: Dataset({\n",
      "        features: ['input_ids', 'labels', 'attention_mask'],\n",
      "        num_rows: 60851\n",
      "    })\n",
      "    validation: Dataset({\n",
      "        features: ['input_ids', 'labels', 'attention_mask'],\n",
      "        num_rows: 7598\n",
      "    })\n",
      "    test: Dataset({\n",
      "        features: ['input_ids', 'labels', 'attention_mask'],\n",
      "        num_rows: 7623\n",
      "    })\n",
      "})\n"
     ]
    }
   ],
   "source": [
    "from transformers import (DataCollatorForTokenClassification,\n",
    "                          BertTokenizer, BertForTokenClassification)\n",
    "from transformers import Trainer, TrainingArguments\n",
    "from datasets import Dataset, DatasetDict\n",
    "pretrained_model = \"./Model_01.01/04/model/\"\n",
    "dataset = DatasetDict().load_from_disk('./built_datasets/peykareh.01')\n",
    "model = BertForTokenClassification.from_pretrained(pretrained_model, num_labels=3)\n",
    "print(model)\n",
    "print(dataset)"
   ]
  },
  {
   "cell_type": "code",
   "execution_count": 2,
   "outputs": [
    {
     "name": "stdout",
     "output_type": "stream",
     "text": [
      "Dataset({\n",
      "    features: ['input_ids', 'labels', 'attention_mask'],\n",
      "    num_rows: 7623\n",
      "})\n",
      "{'input_ids': [478, 459, 461, 451, 515, 477, 476, 451, 478, 498, 461, 472, 515, 466, 479, 452, 461, 505, 454, 451, 462, 458, 459, 451, 479, 477, 459, 470, 472, 479, 461, 476, 477, 451, 477, 479, 463, 475, 451, 476, 454, 515, 451, 477, 458, 451, 477, 479, 451, 459, 478, 476, 457, 454, 461, 476, 461, 451, 458, 479, 451, 478, 451, 477, 515, 476, 119, 102, 101, 475, 451, 515, 452, 477, 515, 454, 463, 476, 469, 454, 473, 459, 452, 479, 459, 505, 478, 478, 461, 507, 479, 477, 478, 469, 473, 475, 451, 477, 515, 454, 451, 462, 477, 515, 461, 479, 515, 454, 479, 451, 476, 451, 477, 472, 461, 459, 515, 479, 467, 452, 515, 469, 454, 463, 461, 499, 464, 476, 478, 476, 515, 507, 515, 461, 459, 448, 196, 476, 477, 183, 451, 477, 463, 451, 477, 515, 459, 461, 451, 515, 477, 451, 476, 461, 451, 478, 476, 515, 454, 458, 451, 465, 459, 451, 461, 459, 446, 452, 515, 451, 477, 505, 478, 505, 475, 515, 454, 459, 451, 464, 454, 478, 452, 451, 464, 459, 119, 102, 101, 476, 454, 477, 498, 515, 451, 476, 451, 473, 451, 515, 458, 451, 454, 476, 515, 505, 478, 461, 479, 462, 459, 479, 464, 477, 452, 478, 451, 462, 463, 479, 515, 451, 459, 451, 461, 478, 505, 475, 451, 467, 475, 451, 469, 451, 454, 479, 451, 458, 452, 451, 461, 461, 515, 451, 463, 454, 456, 476, 478, 479, 461, 515, 459, 461, 451, 458, 454, 515, 451, 461, 458, 452, 461, 507, 462, 451, 461, 515, 456, 476, 478, 479, 461, 515, 451, 463, 475, 451, 476, 515, 473, 461, 451, 461, 507, 461, 472, 454, 446, 452, 478, 464, 461, 457, 462, 515, 461, 451, 463, 454, 131, 452, 463, 476, 451, 475, 475, 478, 451, 475, 461, 457, 476, 477, 451, 475, 461, 457, 515, 476, 119, 102, 101, 479, 515, 451, 472, 462, 479, 459, 131, 476, 451, 469, 475, 515, 478, 452, 462, 461, 507, 459, 451, 464, 454, 515, 505, 499, 477, 515, 477, 477, 476, 451, 459, 478, 451, 515, 515, 473, 479, 451, 477, 515, 477, 463, 458, 454, 479, 464, 459, 515, 459, 515, 459, 461, 451, 454, 461, 515, 464, 459, 451, 461, 515, 476, 119, 102, 101, 451, 452, 462, 451, 461, 459, 515, 507, 461, 472, 461, 478, 477, 507, 515, 477, 479, 451, 461, 465, 479, 454, 515, 479, 479, 515, 459, 481, 479, 515, 515, 452, 479, 459, 505, 478, 454, 479, 463, 467, 452, 451, 477, 459, 477, 479, 451, 461, 463, 451, 462, 451, 477, 452, 478, 458, 459, 476, 454, 507, 461, 472, 454, 478, 464, 459, 479, 498, 461, 479, 502, 478, 456, 477, 507, 461, 479, 451, 477, 515, 479, 454, 458, 461, 515, 452, 477, 478, 451, 459, 478, 451, 515, 456, 476, 478, 479, 461, 515, 451, 463, 475, 451, 476, 515, 452, 451, 477, 464, 461, 462, 515, 461, 462, 476, 515, 477, 515, 451, 477, 464, 505, 475], 'labels': [1, 0, 1, 0, 0, 1, 0, 0, 1, 0, 0, 0, 0, 1, 1, 0, 0, 0, 1, 0, 1, 0, 0, 0, 0, 0, 1, 0, 0, 0, 1, 0, 0, 0, 1, 1, 0, 0, 0, 0, 0, 1, 0, 1, 0, 0, 0, 0, 0, 0, 1, 0, 0, 0, 0, 1, 0, 1, 0, 0, 0, 0, 0, 0, 0, 0, 1, 0, 0, 0, 0, 0, 2, 0, 0, 0, 1, 0, 0, 0, 0, 1, 0, 0, 1, 0, 1, 0, 1, 0, 0, 0, 1, 0, 0, 0, 0, 0, 0, 1, 0, 1, 0, 0, 0, 0, 1, 0, 0, 0, 0, 0, 1, 0, 0, 0, 1, 1, 0, 0, 0, 0, 1, 0, 0, 0, 0, 0, 1, 0, 2, 0, 0, 0, 1, 0, 1, 0, 1, 0, 0, 0, 0, 0, 0, 1, 0, 1, 0, 0, 1, 0, 0, 1, 0, 0, 0, 0, 1, 0, 0, 1, 0, 0, 0, 0, 1, 0, 1, 0, 1, 0, 1, 0, 0, 0, 1, 0, 0, 0, 0, 1, 0, 0, 0, 0, 1, 0, 0, 0, 0, 1, 0, 0, 0, 1, 0, 0, 0, 1, 0, 0, 0, 0, 1, 0, 1, 0, 0, 1, 0, 0, 0, 0, 0, 1, 0, 1, 0, 0, 1, 0, 0, 0, 0, 1, 0, 1, 0, 0, 0, 0, 0, 0, 1, 1, 0, 0, 0, 0, 1, 0, 0, 0, 0, 1, 0, 0, 0, 0, 0, 1, 0, 1, 0, 0, 0, 0, 0, 1, 0, 0, 0, 0, 0, 0, 0, 1, 0, 0, 0, 0, 0, 1, 0, 0, 0, 0, 0, 1, 0, 0, 0, 1, 0, 0, 0, 0, 1, 0, 1, 0, 0, 1, 0, 0, 1, 0, 0, 0, 1, 0, 0, 2, 0, 0, 0, 2, 0, 0, 0, 0, 0, 2, 0, 0, 0, 0, 0, 0, 1, 0, 0, 0, 1, 0, 0, 0, 0, 0, 1, 0, 1, 0, 0, 0, 1, 0, 0, 0, 0, 0, 0, 0, 1, 0, 1, 0, 0, 0, 1, 0, 0, 0, 0, 0, 0, 0, 1, 0, 0, 0, 0, 0, 1, 0, 0, 1, 1, 0, 0, 0, 0, 1, 0, 1, 0, 0, 0, 0, 1, 0, 0, 0, 0, 0, 1, 0, 0, 0, 0, 0, 0, 1, 0, 0, 0, 1, 0, 0, 0, 0, 0, 1, 0, 0, 0, 1, 0, 0, 0, 1, 1, 0, 0, 0, 0, 0, 0, 1, 0, 0, 1, 0, 1, 0, 0, 0, 1, 0, 0, 0, 1, 0, 0, 0, 0, 0, 0, 0, 0, 1, 0, 1, 0, 0, 0, 1, 0, 0, 0, 0, 1, 0, 1, 1, 0, 0, 0, 0, 1, 0, 0, 1, 0, 0, 0, 0, 1, 1, 0, 0, 0, 0, 1, 0, 0, 0, 0, 0, 0, 1, 0, 0, 0, 0, 0, 1, 0, 0, 0, 0, 0, 1, 0, 1, 0, 0, 1, 0, 0, 0, 0, 0, 0, 0, 1, 0, 1, 0, 0, 1], 'attention_mask': [1, 1, 1, 1, 1, 1, 1, 1, 1, 1, 1, 1, 1, 1, 1, 1, 1, 1, 1, 1, 1, 1, 1, 1, 1, 1, 1, 1, 1, 1, 1, 1, 1, 1, 1, 1, 1, 1, 1, 1, 1, 1, 1, 1, 1, 1, 1, 1, 1, 1, 1, 1, 1, 1, 1, 1, 1, 1, 1, 1, 1, 1, 1, 1, 1, 1, 1, 1, 1, 1, 1, 1, 1, 1, 1, 1, 1, 1, 1, 1, 1, 1, 1, 1, 1, 1, 1, 1, 1, 1, 1, 1, 1, 1, 1, 1, 1, 1, 1, 1, 1, 1, 1, 1, 1, 1, 1, 1, 1, 1, 1, 1, 1, 1, 1, 1, 1, 1, 1, 1, 1, 1, 1, 1, 1, 1, 1, 1, 1, 1, 1, 1, 1, 1, 1, 1, 1, 1, 1, 1, 1, 1, 1, 1, 1, 1, 1, 1, 1, 1, 1, 1, 1, 1, 1, 1, 1, 1, 1, 1, 1, 1, 1, 1, 1, 1, 1, 1, 1, 1, 1, 1, 1, 1, 1, 1, 1, 1, 1, 1, 1, 1, 1, 1, 1, 1, 1, 1, 1, 1, 1, 1, 1, 1, 1, 1, 1, 1, 1, 1, 1, 1, 1, 1, 1, 1, 1, 1, 1, 1, 1, 1, 1, 1, 1, 1, 1, 1, 1, 1, 1, 1, 1, 1, 1, 1, 1, 1, 1, 1, 1, 1, 1, 1, 1, 1, 1, 1, 1, 1, 1, 1, 1, 1, 1, 1, 1, 1, 1, 1, 1, 1, 1, 1, 1, 1, 1, 1, 1, 1, 1, 1, 1, 1, 1, 1, 1, 1, 1, 1, 1, 1, 1, 1, 1, 1, 1, 1, 1, 1, 1, 1, 1, 1, 1, 1, 1, 1, 1, 1, 1, 1, 1, 1, 1, 1, 1, 1, 1, 1, 1, 1, 1, 1, 1, 1, 1, 1, 1, 1, 1, 1, 1, 1, 1, 1, 1, 1, 1, 1, 1, 1, 1, 1, 1, 1, 1, 1, 1, 1, 1, 1, 1, 1, 1, 1, 1, 1, 1, 1, 1, 1, 1, 1, 1, 1, 1, 1, 1, 1, 1, 1, 1, 1, 1, 1, 1, 1, 1, 1, 1, 1, 1, 1, 1, 1, 1, 1, 1, 1, 1, 1, 1, 1, 1, 1, 1, 1, 1, 1, 1, 1, 1, 1, 1, 1, 1, 1, 1, 1, 1, 1, 1, 1, 1, 1, 1, 1, 1, 1, 1, 1, 1, 1, 1, 1, 1, 1, 1, 1, 1, 1, 1, 1, 1, 1, 1, 1, 1, 1, 1, 1, 1, 1, 1, 1, 1, 1, 1, 1, 1, 1, 1, 1, 1, 1, 1, 1, 1, 1, 1, 1, 1, 1, 1, 1, 1, 1, 1, 1, 1, 1, 1, 1, 1, 1, 1, 1, 1, 1, 1, 1, 1, 1, 1, 1, 1, 1, 1, 1, 1, 1, 1, 1, 1, 1, 1, 1, 1, 1, 1, 1, 1, 1, 1, 1, 1, 1, 1, 1, 1, 1, 1, 1, 1, 1, 1, 1, 1, 1, 1, 1, 1, 1, 1, 1, 1, 1, 1, 1, 1, 1]}\n",
      "<class 'datasets.arrow_dataset.Dataset'>\n",
      "<class 'dict'>\n"
     ]
    }
   ],
   "source": [
    "\n",
    "trainer = Trainer(model=model,\n",
    "                  args=TrainingArguments(output_dir='./Model/results'),\n",
    "                  train_dataset=dataset['train'],\n",
    "                  eval_dataset=dataset[\"test\"])\n",
    "print(dataset[\"test\"])\n",
    "print(dataset[\"test\"][0])\n",
    "print(type(dataset[\"test\"]))\n",
    "print(type(dataset[\"test\"][0]))\n"
   ],
   "metadata": {
    "collapsed": false,
    "ExecuteTime": {
     "end_time": "2024-01-14T12:48:38.236952094Z",
     "start_time": "2024-01-14T12:48:37.993213824Z"
    }
   },
   "id": "431ddc835776b93c"
  },
  {
   "cell_type": "code",
   "execution_count": 4,
   "outputs": [
    {
     "ename": "ValueError",
     "evalue": "dictionary update sequence element #0 has length 512; 2 is required",
     "output_type": "error",
     "traceback": [
      "\u001B[0;31m---------------------------------------------------------------------------\u001B[0m",
      "\u001B[0;31mValueError\u001B[0m                                Traceback (most recent call last)",
      "Cell \u001B[0;32mIn[4], line 1\u001B[0m\n\u001B[0;32m----> 1\u001B[0m predictions \u001B[38;5;241m=\u001B[39m trainer\u001B[38;5;241m.\u001B[39mpredict(\u001B[38;5;28;43mdict\u001B[39;49m\u001B[43m(\u001B[49m\u001B[43mdataset\u001B[49m\u001B[43m[\u001B[49m\u001B[38;5;124;43m\"\u001B[39;49m\u001B[38;5;124;43mtest\u001B[39;49m\u001B[38;5;124;43m\"\u001B[39;49m\u001B[43m]\u001B[49m\u001B[43m[\u001B[49m\u001B[38;5;124;43m\"\u001B[39;49m\u001B[38;5;124;43minput_ids\u001B[39;49m\u001B[38;5;124;43m\"\u001B[39;49m\u001B[43m]\u001B[49m\u001B[43m)\u001B[49m)\n\u001B[1;32m      2\u001B[0m \u001B[38;5;28mprint\u001B[39m(predictions)\n\u001B[1;32m      3\u001B[0m predicted_labels \u001B[38;5;241m=\u001B[39m predictions\u001B[38;5;241m.\u001B[39mpredictions\u001B[38;5;241m.\u001B[39margmax(axis\u001B[38;5;241m=\u001B[39m\u001B[38;5;241m-\u001B[39m\u001B[38;5;241m1\u001B[39m)\n",
      "\u001B[0;31mValueError\u001B[0m: dictionary update sequence element #0 has length 512; 2 is required"
     ]
    }
   ],
   "source": [
    "predictions = trainer.predict(dataset[\"test\"])\n",
    "print(predictions)\n",
    "predicted_labels = predictions.predictions.argmax(axis=-1)\n",
    "print(predicted_labels)"
   ],
   "metadata": {
    "collapsed": false,
    "ExecuteTime": {
     "end_time": "2024-01-14T12:55:02.725705532Z",
     "start_time": "2024-01-14T12:55:00.901560833Z"
    }
   },
   "id": "ca3a09f0118704e7"
  },
  {
   "cell_type": "code",
   "execution_count": 10,
   "outputs": [
    {
     "name": "stdout",
     "output_type": "stream",
     "text": [
      "Dataset({\n",
      "    features: ['input_ids', 'labels', 'attention_mask'],\n",
      "    num_rows: 7623\n",
      "})\n"
     ]
    }
   ],
   "source": [
    "print(dataset['test'])"
   ],
   "metadata": {
    "collapsed": false,
    "ExecuteTime": {
     "end_time": "2024-01-14T12:58:56.847943860Z",
     "start_time": "2024-01-14T12:58:56.788328207Z"
    }
   },
   "id": "bd5cf86f6f4b6de9"
  },
  {
   "cell_type": "code",
   "execution_count": 5,
   "outputs": [],
   "source": [
    "from utils.label_evaluator import Evaluator\n",
    "from corpus import Type\n",
    "evaluator = Evaluator(labels=(0,1,2))\n",
    "evaluator.evaluate(dataset['test']['labels'],predicted_labels,Type.sents_raw)"
   ],
   "metadata": {
    "collapsed": false,
    "ExecuteTime": {
     "end_time": "2024-01-13T13:17:36.992978798Z",
     "start_time": "2024-01-13T13:17:32.462535991Z"
    }
   },
   "id": "9a46d0163600fbac"
  },
  {
   "cell_type": "code",
   "execution_count": 6,
   "outputs": [
    {
     "name": "stdout",
     "output_type": "stream",
     "text": [
      "╒═════════╤═════════════╤══════════╤════════════╤════════════╕\n",
      "│ Label   │   Precision │   Recall │   Accuracy │   F1 Score │\n",
      "╞═════════╪═════════════╪══════════╪════════════╪════════════╡\n",
      "│ 0       │    0.996294 │ 0.996555 │   0.996555 │   0.996425 │\n",
      "├─────────┼─────────────┼──────────┼────────────┼────────────┤\n",
      "│ 1       │    0.987987 │ 0.986389 │   0.986389 │   0.987187 │\n",
      "├─────────┼─────────────┼──────────┼────────────┼────────────┤\n",
      "│ 2       │    0.936259 │ 0.945634 │   0.945634 │   0.940923 │\n",
      "├─────────┼─────────────┼──────────┼────────────┼────────────┤\n",
      "│ Average │    0.973513 │ 0.976193 │   0.976193 │   0.974845 │\n",
      "╘═════════╧═════════════╧══════════╧════════════╧════════════╛\n"
     ]
    }
   ],
   "source": [
    "evaluator.show_metrics()"
   ],
   "metadata": {
    "collapsed": false,
    "ExecuteTime": {
     "end_time": "2024-01-13T13:17:37.001271144Z",
     "start_time": "2024-01-13T13:17:36.996854820Z"
    }
   },
   "id": "e138b7ce58c3ed8d"
  },
  {
   "cell_type": "markdown",
   "source": [],
   "metadata": {
    "collapsed": false
   },
   "id": "d9a8bf6638928e01"
  },
  {
   "cell_type": "code",
   "execution_count": 8,
   "outputs": [
    {
     "name": "stdout",
     "output_type": "stream",
     "text": [
      "Accuracy: 0.99\n",
      "Precision: 0.97\n",
      "Recall: 0.98\n",
      "F1 score: 0.97\n"
     ]
    }
   ],
   "source": [
    "from sklearn.metrics import accuracy_score, precision_score, recall_score, f1_score, classification_report\n",
    "\n",
    "predictions_flat = [label for sample in predicted_labels for label in sample]\n",
    "true_labels_flat = [label for sample in dataset['test']['labels'] for label in sample]\n",
    "\n",
    "# Calculate the accuracy, precision, recall, and F1 score\n",
    "accuracy = accuracy_score(true_labels_flat, predictions_flat)\n",
    "precision = precision_score(true_labels_flat, predictions_flat, average='macro')\n",
    "recall = recall_score(true_labels_flat, predictions_flat, average='macro')\n",
    "f1 = f1_score(true_labels_flat, predictions_flat, average='macro')\n",
    "\n",
    "# Print the results\n",
    "print(f\"Accuracy: {accuracy:.2f}\")\n",
    "print(f\"Precision: {precision:.2f}\")\n",
    "print(f\"Recall: {recall:.2f}\")\n",
    "print(f\"F1 score: {f1:.2f}\")\n"
   ],
   "metadata": {
    "collapsed": false,
    "ExecuteTime": {
     "end_time": "2024-01-13T13:22:43.499191225Z",
     "start_time": "2024-01-13T13:22:24.782649234Z"
    }
   },
   "id": "d584f8c247f53c6"
  },
  {
   "cell_type": "code",
   "execution_count": 10,
   "outputs": [
    {
     "name": "stdout",
     "output_type": "stream",
     "text": [
      "              precision    recall  f1-score   support\n",
      "\n",
      "           0    0.99629   0.99656   0.99642   2923715\n",
      "           1    0.98799   0.98639   0.98719    909052\n",
      "           2    0.93626   0.94563   0.94092     70209\n",
      "\n",
      "    accuracy                        0.99327   3902976\n",
      "   macro avg    0.97351   0.97619   0.97485   3902976\n",
      "weighted avg    0.99328   0.99327   0.99327   3902976\n"
     ]
    }
   ],
   "source": [
    "report = classification_report(true_labels_flat, predictions_flat,digits=5)\n",
    "\n",
    "# Print the report to the console\n",
    "print(report)"
   ],
   "metadata": {
    "collapsed": false,
    "ExecuteTime": {
     "end_time": "2024-01-13T13:25:46.242400244Z",
     "start_time": "2024-01-13T13:25:35.184592633Z"
    }
   },
   "id": "be0b8752797ad09c"
  },
  {
   "cell_type": "code",
   "execution_count": null,
   "outputs": [],
   "source": [],
   "metadata": {
    "collapsed": false
   },
   "id": "5a545a593c27ca92"
  }
 ],
 "metadata": {
  "kernelspec": {
   "display_name": "Python 3",
   "language": "python",
   "name": "python3"
  },
  "language_info": {
   "codemirror_mode": {
    "name": "ipython",
    "version": 2
   },
   "file_extension": ".py",
   "mimetype": "text/x-python",
   "name": "python",
   "nbconvert_exporter": "python",
   "pygments_lexer": "ipython2",
   "version": "2.7.6"
  }
 },
 "nbformat": 4,
 "nbformat_minor": 5
}
